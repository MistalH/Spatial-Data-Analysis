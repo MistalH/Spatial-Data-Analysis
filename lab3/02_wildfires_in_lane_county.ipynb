{
 "cells": [
  {
   "cell_type": "markdown",
   "id": "9ec3aeb4",
   "metadata": {},
   "source": [
    "## Lab 3: Exploring wildfire occurrence data in Python\n",
    "\n",
    "**Objectives:**\n",
    "   * Explore a large wildfire dataset using `pandas` and `geopandas`.\n",
    "   * Query `pandas DataFrames` and find descriptive statistics\n",
    "   * Filter and aggregate `pandas DataFrames`\n",
    "   * Plot time-series data"
   ]
  },
  {
   "cell_type": "markdown",
   "id": "5d9f9b47",
   "metadata": {},
   "source": [
    "### Create a new environment and launch the notebook\n",
    "\n",
    "There is an `environment.yml` file in each lab folder. This file contains a list of packages required for completing the assignments. The `environment.yml` file in this lab, for example, includes the `geopandas` package that is really useful for reading, analyzing, and writing vector data.  \n",
    "\n",
    "We can install this environment using the instructions in Lab 1 but we will repeat them here as well. Navigate to the `labs/lab2` folder (either from the terminal for Linux and Mac users or from the **CMD.exe Prompt** launched from **Anaconda Navigator** for Windows users) and run:\n",
    "\n",
    "`conda env create -f environment.yml`\n",
    "\n",
    "Activate this environment by running:\n",
    "\n",
    "`conda activate lab2`\n",
    "\n",
    "Now launch the notebook by running:\n",
    "\n",
    "`jupyter notebook 02_wildfires_in_lane_county.ipynb`"
   ]
  },
  {
   "cell_type": "markdown",
   "id": "31448c17",
   "metadata": {},
   "source": [
    "### Download the data for the lab\n",
    "\n",
    "We will be using a wildfire dataset for 1992-2018 period compiled from US federal, state, and local reporting systems by the Forest Service. More info can be found here: https://www.fs.usda.gov/rds/archive/Catalog/RDS-2013-0009.5. Since the max file size for GitHub is 2 GB, the lab data will be available on Dropbox. See Slack (or Canvas) for the Dropbox link. \n",
    "\n",
    "Once you have launched the notebook and downloaded the data, we are ready to begin..."
   ]
  },
  {
   "cell_type": "code",
   "id": "2c1f6067",
   "metadata": {},
   "source": [
    "# Import modules\n",
    "import pandas as pd\n",
    "import geopandas as gpd\n",
    "import matplotlib.pyplot as plt"
   ],
   "outputs": [],
   "execution_count": null
  },
  {
   "cell_type": "code",
   "id": "6b511e98",
   "metadata": {},
   "source": [
    "# Define data filepath\n",
    "pathname = '/home/salama/Downloads/RDS-2013-0009.5_Data_Format3_GPKG/Data/'\n",
    "\n",
    "# Read data\n",
    "df = gpd.read_file(pathname + 'FPA_FOD_20210617.gpkg') # 'df' stands for DataFrame"
   ],
   "outputs": [],
   "execution_count": null
  },
  {
   "cell_type": "markdown",
   "id": "e8100d85",
   "metadata": {},
   "source": [
    "### Some basic querying"
   ]
  },
  {
   "cell_type": "code",
   "id": "6991d39e",
   "metadata": {},
   "source": [
    "# Find column labels\n",
    "df.columns"
   ],
   "outputs": [],
   "execution_count": null
  },
  {
   "cell_type": "markdown",
   "id": "cd1a2e99",
   "metadata": {},
   "source": [
    "**Note** that the max length of a shapefile column header is **10 characters**. A full list of columns can be found below:\n",
    "\n",
    "### Column labels\n",
    "\n",
    "\n",
    "FOD_ID = Unique numeric record identifier.\n",
    "\n",
    "FPA_ID = Unique identifier that contains information necessary to track back to the original record in the source dataset.\n",
    "\n",
    "SOURCE_SYSTEM_TYPE = Type of source database or system that the record was drawn from (federal, nonfederal, or interagency).\n",
    "\n",
    "SOURCE_SYSTEM = Name of or other identifier for source database or system that the record was drawn from. See Table 1 in Short (2014), or \\Supplements\\FPA_FOD_source_list.pdf, for a list of sources and their identifier.\n",
    "\n",
    "NWCG_REPORTING_AGENCY = Active National Wildlife Coordinating Group (NWCG) Unit Identifier for the agency preparing the fire report (BIA = Bureau of Indian Affairs, BLM = Bureau of Land Management, BOR = Bureau of Reclamation, DOD = Department of Defense, DOE = Department of Energy, FS = Forest Service, FWS = Fish and Wildlife Service, IA = Interagency Organization, NPS = National Park Service, ST/C&L = State, County, or Local Organization, and TRIBE = Tribal Organization).\n",
    "\n",
    "NWCG_REPORTING_UNIT_ID = Active NWCG Unit Identifier for the unit preparing the fire report.\n",
    "\n",
    "NWCG_REPORTING_UNIT_NAME = Active NWCG Unit Name for the unit preparing the fire report.\n",
    "\n",
    "SOURCE_REPORTING_UNIT = Code for the agency unit preparing the fire report, based on code/name in the source dataset.\n",
    "\n",
    "SOURCE_REPORTING_UNIT_NAME = Name of reporting agency unit preparing the fire report, based on code/name in the source dataset.\n",
    "\n",
    "LOCAL_FIRE_REPORT_ID = Number or code that uniquely identifies an incident report for a particular reporting unit and a particular calendar year.\n",
    "\n",
    "LOCAL_INCIDENT_ID = Number or code that uniquely identifies an incident for a particular local fire management organization within a particular calendar year.\n",
    "\n",
    "FIRE_CODE = Code used within the interagency wildland fire community to track and compile cost information for emergency fire suppression (https://www.firecode.gov/).\n",
    "\n",
    "FIRE_NAME = Name of the incident, from the fire report (primary) or ICS-209 report (secondary).\n",
    "\n",
    "ICS_209_PLUS_INCIDENT_JOIN_ID = Primary identifier needed to join into operational situation reporting data for the incident in the ICS-209-PLUS dataset.\n",
    "\n",
    "ICS_209_PLUS_COMPLEX_JOIN_ID = If part of a complex, secondary identifier potentially needed to join to operational situation reporting data for the incident in the ICS-209-PLUS dataset (2014 and later only).\n",
    "\n",
    "MTBS_ID = Incident identifier, from the MTBS perimeter dataset.\n",
    "\n",
    "MTBS_FIRE_NAME = Name of the incident, from the MTBS perimeter dataset.\n",
    "\n",
    "COMPLEX_NAME = Name of the complex under which the fire was ultimately managed, when discernible.\n",
    "\n",
    "FIRE_YEAR = Calendar year in which the fire was discovered or confirmed to exist.\n",
    "\n",
    "DISCOVERY_DATE = Date on which the fire was discovered or confirmed to exist.\n",
    "\n",
    "DISCOVERY_DOY = Day of year on which the fire was discovered or confirmed to exist.\n",
    "\n",
    "DISCOVERY_TIME = Time of day that the fire was discovered or confirmed to exist.\n",
    "\n",
    "NWCG_CAUSE_CLASSIFICATION = Broad classification of the reason the fire occurred (Human, Natural, Missing data/not specified/undetermined).\n",
    "\n",
    "NWCG_GENERAL_CAUSE = Event or circumstance that started a fire or set the stage for its occurrence (Arson/incendiarism, Debris and open burning, Equipment and vehicle use, Firearms and explosives use, Fireworks, Misuse of fire by a minor, Natural, Power generation/transmission/distribution, Railroad operations and maintenance, Recreation and ceremony, Smoking, Other causes, Missing data/not specified/undetermined).\n",
    "\n",
    "NWCG_CAUSE_AGE_CATEGORY = If cause attributed to children (ages 0-12) or adolescents (13-17), the value for this data element is set to Minor; otherwise null.\n",
    "\n",
    "CONT_DATE = Date on which the fire was declared contained or otherwise controlled (mm/dd/yyyy where mm=month, dd=day, and yyyy=year).\n",
    "\n",
    "CONT_DOY = Day of year on which the fire was declared contained or otherwise controlled.\n",
    "\n",
    "CONT_TIME = Time of day that the fire was declared contained or otherwise controlled (hhmm where hh=hour, mm=minutes).\n",
    "\n",
    "FIRE_SIZE = The estimate of acres within the final perimeter of the fire.\n",
    "\n",
    "FIRE_SIZE_CLASS = Code for fire size based on the number of acres within the final fire perimeter (A=greater than 0 but less than or equal to 0.25 acres, B=0.26-9.9 acres, C=10.0-99.9 acres, D=100-299 acres, E=300 to 999 acres, F=1000 to 4999 acres, and G=5000+ acres).\n",
    "\n",
    "LATITUDE = Latitude (NAD83) for point location of the fire (decimal degrees).\n",
    "\n",
    "LONGITUDE = Longitude (NAD83) for point location of the fire (decimal degrees).\n",
    "\n",
    "OWNER_DESCR = Name of primary owner or entity responsible for managing the land at the point of origin of the fire at the time of the incident.\n",
    "\n",
    "STATE = Two-letter alphabetic code for the state in which the fire burned (or originated), based on the nominal designation in the fire report.\n",
    "\n",
    "COUNTY = County, or equivalent, in which the fire burned (or originated), based on nominal designation in the fire report.\n",
    "\n",
    "FIPS_CODE = Five-digit code from the Federal Information Process Standards (FIPS) publication 6-4 for representation of counties and equivalent entities, based on the nominal designation in the fire report.\n",
    "\n",
    "FIPS_NAME = County name from the FIPS publication 6-4 for representation of counties and equivalent entities, based on the nominal designation in the fire report."
   ]
  },
  {
   "cell_type": "code",
   "id": "fed3cd9e",
   "metadata": {},
   "source": [
    "# Find columns datatypes\n",
    "df.dtypes"
   ],
   "outputs": [],
   "execution_count": null
  },
  {
   "cell_type": "code",
   "id": "137ce593",
   "metadata": {},
   "source": [
    "# Get some stats for numeric columns\n",
    "df['FIRE_SIZE'].describe()"
   ],
   "outputs": [],
   "execution_count": null
  },
  {
   "cell_type": "markdown",
   "id": "ea13bdc3",
   "metadata": {},
   "source": [
    "So it appears that most fires are extremely small (i.e. 75% of wildfire are less than 0.33 acres)"
   ]
  },
  {
   "cell_type": "markdown",
   "id": "5b5d50c1",
   "metadata": {},
   "source": [
    "### Apply filters"
   ]
  },
  {
   "cell_type": "code",
   "id": "4415ee5c",
   "metadata": {},
   "source": [
    "# Filter fires larger than 100 acres\n",
    "df_large = df[df['FIRE_SIZE'] > 100]"
   ],
   "outputs": [],
   "execution_count": null
  },
  {
   "cell_type": "code",
   "id": "cc3db94c",
   "metadata": {},
   "source": [
    "# Find mean size of wildfires larger than 100 acres\n",
    "df_large['FIRE_SIZE'].mean()"
   ],
   "outputs": [],
   "execution_count": null
  },
  {
   "cell_type": "code",
   "id": "83bdb4b2",
   "metadata": {},
   "source": [
    "# Find the different cause of large wildfires\n",
    "df_large['NWCG_CAUSE_CLASSIFICATION'].unique()"
   ],
   "outputs": [],
   "execution_count": null
  },
  {
   "cell_type": "code",
   "id": "720a2389",
   "metadata": {},
   "source": [
    "# Filter fires that were caused by natural causes\n",
    "df_large_natural = df_large[df_large['NWCG_CAUSE_CLASSIFICATION'] == 'Natural'].copy()"
   ],
   "outputs": [],
   "execution_count": null
  },
  {
   "cell_type": "markdown",
   "id": "f3a6bbdf",
   "metadata": {},
   "source": [
    "### `datetime` functionality"
   ]
  },
  {
   "cell_type": "code",
   "id": "50f4602c",
   "metadata": {},
   "source": [
    "# Find date of discovery\n",
    "df_large_natural['DISCOVERY_DATE']"
   ],
   "outputs": [],
   "execution_count": null
  },
  {
   "cell_type": "markdown",
   "id": "acaadc1a",
   "metadata": {},
   "source": [
    "`pandas` contains extensive capabilities and features for working with time series data. But to access this functionality, we need to convert the datatype of this column from `object` to `datetime64`. "
   ]
  },
  {
   "cell_type": "code",
   "id": "6a0bf0e8",
   "metadata": {},
   "source": [
    "datetime = pd.to_datetime(df_large_natural['DISCOVERY_DATE'], format='%Y/%m/%d %H:%M:%S.%f')\n",
    "datetime"
   ],
   "outputs": [],
   "execution_count": null
  },
  {
   "cell_type": "code",
   "id": "8cc13fd5",
   "metadata": {},
   "source": [
    "df_large_natural['datetime'] = datetime"
   ],
   "outputs": [],
   "execution_count": null
  },
  {
   "cell_type": "code",
   "id": "835a9026",
   "metadata": {},
   "source": [
    "# Filter large, natural wildfires in 2016\n",
    "df_large_natural_2016 = df_large_natural[df_large_natural['datetime'].dt.year == 2016]"
   ],
   "outputs": [],
   "execution_count": null
  },
  {
   "cell_type": "markdown",
   "id": "024d57af",
   "metadata": {},
   "source": [
    "### Group by categories"
   ]
  },
  {
   "cell_type": "code",
   "id": "ffe84de8",
   "metadata": {},
   "source": [
    "# Find number of large fires in each year (i.e. number of rows in each year)\n",
    "large_fire_count = df_large.iloc[:,0].groupby(df_large_natural['datetime'].dt.year).count()"
   ],
   "outputs": [],
   "execution_count": null
  },
  {
   "cell_type": "code",
   "id": "68af9ee3",
   "metadata": {},
   "source": [
    "# Find acres of wildfire for each year\n",
    "large_fire_area = df_large['FIRE_SIZE'].groupby(df_large_natural['datetime'].dt.year).sum()"
   ],
   "outputs": [],
   "execution_count": null
  },
  {
   "cell_type": "markdown",
   "id": "bcf75fae",
   "metadata": {},
   "source": [
    "### Plot"
   ]
  },
  {
   "cell_type": "code",
   "id": "5913ad23",
   "metadata": {},
   "source": [
    "# Plot number and acres of wildfire for each year\n",
    "fig, (ax1, ax2) = plt.subplots(nrows=2, ncols=1, figsize=(10,8), sharex=True)\n",
    "ax1.plot(large_fire_count, lw=2)\n",
    "ax1.set_ylabel('Number of fires (>100 acres)', fontsize=14)\n",
    "ax1.tick_params(axis='x', labelsize=14)\n",
    "ax1.tick_params(axis='y', labelsize=14)\n",
    "ax1.grid(ls='dotted', lw=2, alpha=0.5)\n",
    "\n",
    "ax2.plot(large_fire_area, lw=2)\n",
    "ax2.set_ylabel('Area of fires (>100 acres)', fontsize=14)\n",
    "ax2.tick_params(axis='x', labelsize=14)\n",
    "ax2.tick_params(axis='y', labelsize=14)\n",
    "ax2.grid(ls='dotted', lw=2, alpha=0.5)"
   ],
   "outputs": [],
   "execution_count": null
  },
  {
   "cell_type": "markdown",
   "id": "6eed80ef",
   "metadata": {},
   "source": [
    "*********\n",
    "\n",
    "## Question 1 (20 points): \n",
    "\n",
    "Make a **new file** (either a Jupyter Notebook or Spyder `.py` file) and name it `lab2_submission.ipynb`. Write some code to answer the following questions:\n",
    "\n",
    "* a) Which **county** had the most **human** caused wildfires **>50 acres**? (HINT: use the `FIPS_NAME` column)\n",
    "* b) Which **month** had the most **natural** caused wildfires **>100 acres**?\n",
    "* c) How many fires **>200 acres** have an **undetermined** cause (e.g. `Missing data/not specified/undetermined`?\n",
    "* d) What is the name, date, and county of the **largest sized fire**?\n",
    "* e) How many wildfires in **Lane County** were **>50 acres**?\n",
    "\n",
    "*Remember, focus on adapting the example code rather than writing your own from scratch.*\n",
    "**************"
   ]
  }
 ],
 "metadata": {
  "kernelspec": {
   "display_name": "Python 3 (ipykernel)",
   "language": "python",
   "name": "python3"
  },
  "language_info": {
   "codemirror_mode": {
    "name": "ipython",
    "version": 3
   },
   "file_extension": ".py",
   "mimetype": "text/x-python",
   "name": "python",
   "nbconvert_exporter": "python",
   "pygments_lexer": "ipython3",
   "version": "3.8.12"
  }
 },
 "nbformat": 4,
 "nbformat_minor": 5
}
