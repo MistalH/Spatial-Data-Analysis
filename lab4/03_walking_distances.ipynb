{
 "cells": [
  {
   "cell_type": "markdown",
   "id": "074cfda5",
   "metadata": {},
   "source": [
    "## Lab 3: Where is the nearest cafe?\n",
    "\n",
    "**Objectives:**\n",
    "   * We will explore OpenStreetMap (OSM) data using <code>osmnx</code>.\n",
    "   * Learn about OSM data stuctures\n",
    "   * Compute walking distances using just a few lines of code\n",
    "   * Visualize our data using `folium`\n",
    "\n",
    "We will be relying heavily on <code>osmnx</code> which is a package that enables automatic download of geospatial data from OSM and allows us to model, project, visualize, and analyze real-world street networks. More information about this package can be found [here](https://osmnx.readthedocs.io/en/stable/) and the [GitHub repo](https://github.com/gboeing/osmnx/tree/6f9236f20a81416bf34186a811a8ebb76afa0dc8)\n",
    "\n",
    "We will start with a simple example that calculates the Euclidean distance between Condon Hall and some cafes in Eugene. After that, we will use the <code>networkx</code> package to calculate actual walking distances from Condon Hall to the cafes."
   ]
  },
  {
   "cell_type": "markdown",
   "id": "f9a4d7f1",
   "metadata": {},
   "source": [
    "### Create a new environment and launch the notebook\n",
    "\n",
    "As always, make a new environment that contains all the packages for this lab. Navigate to the `labs/lab3` folder (either from the terminal for Linux and Mac users or from the **CMD.exe Prompt** launched from **Anaconda Navigator** for Windows users) and run:\n",
    "\n",
    "`conda env create -f environment.yml`\n",
    "\n",
    "Activate this environment by running:\n",
    "\n",
    "`conda activate lab3`\n",
    "\n",
    "Now launch the notebook by running:\n",
    "\n",
    "`jupyter notebook 03_walking_distances.ipynb`"
   ]
  },
  {
   "cell_type": "code",
   "id": "5d17079b",
   "metadata": {},
   "source": [
    "# Import modules\n",
    "import osmnx as ox \n",
    "\n",
    "import numpy as np\n",
    "import geopandas as gpd\n",
    "\n",
    "from shapely.geometry.polygon import Polygon\n",
    "from shapely.geometry.multipolygon import MultiPolygon\n",
    "from shapely.geometry import LineString, MultiLineString\n",
    "import warnings\n",
    "warnings.filterwarnings('ignore')\n",
    "warnings.filterwarnings(\"ignore\", category=DeprecationWarning)"
   ],
   "outputs": [],
   "execution_count": null
  },
  {
   "cell_type": "markdown",
   "id": "a8d30530",
   "metadata": {},
   "source": [
    "### Retrieve OSM data\n",
    "\n",
    "First we will retrieve all features labelled (or tagged) as buildings in Eugene."
   ]
  },
  {
   "cell_type": "code",
   "id": "5aa1b42b",
   "metadata": {},
   "source": [
    "# Specify type of data\n",
    "tags = {'building': True}\n",
    "\n",
    "# Download building geometries from OSM\n",
    "gdf = ox.geometries_from_place('Eugene, Oregon, USA', tags)"
   ],
   "outputs": [],
   "execution_count": null
  },
  {
   "cell_type": "markdown",
   "id": "9a60543a",
   "metadata": {},
   "source": [
    "It did not take long to download all this data even though this GeoDataFrame is massive (don't worry about the error message!). We can find the number of buildings in Eugene by printing the shape of the GeoDataFrame."
   ]
  },
  {
   "cell_type": "code",
   "id": "35e25381",
   "metadata": {},
   "source": [
    "print(gdf.shape)"
   ],
   "outputs": [],
   "execution_count": null
  },
  {
   "cell_type": "markdown",
   "id": "34376056",
   "metadata": {},
   "source": [
    "We can find out what attributes are contained in this GeoDataFrame by printing the column headers as a list. "
   ]
  },
  {
   "cell_type": "code",
   "id": "cf639357",
   "metadata": {},
   "source": [
    "print(gdf.columns.tolist())"
   ],
   "outputs": [],
   "execution_count": null
  },
  {
   "cell_type": "markdown",
   "id": "b3ad786a",
   "metadata": {},
   "source": [
    "Since OSM is entirely based on volunteered geographic information, there are a lot of attributes, most of which are not complete. We can find the number of non-NaNs in each column by typing:"
   ]
  },
  {
   "cell_type": "code",
   "id": "30021a86",
   "metadata": {},
   "source": [
    "# Count number of non-NaNs in each\n",
    "warnings.filterwarnings(\"ignore\", category=DeprecationWarning)\n",
    "gdf.count()"
   ],
   "outputs": [],
   "execution_count": null
  },
  {
   "cell_type": "markdown",
   "id": "9016f71e",
   "metadata": {},
   "source": [
    "For the purposes of this assignment, we are only interested in buildings that are tagged as **cafes**. Cafes are usually tagged as an **amenity** in OSM so we can filter them using a string comparison."
   ]
  },
  {
   "cell_type": "code",
   "id": "1d8e5feb",
   "metadata": {},
   "source": [
    "# Filter cafes\n",
    "\n",
    "warnings.filterwarnings(\"ignore\", category=DeprecationWarning)\n",
    "cafes = gdf[gdf['amenity'] == 'cafe'].reset_index()\n",
    "cafes"
   ],
   "outputs": [],
   "execution_count": null
  },
  {
   "cell_type": "markdown",
   "id": "0baad75f",
   "metadata": {},
   "source": [
    "We find that there are 33 cafes in Eugene. This could well be an underestimate since there could be cafes that were not tagged as amenities when mapped. But let's keep moving forward. \n",
    "\n",
    "### Computing Euclidean distances to cafes from Condon Hall\n",
    "\n",
    "We now want to compute the distance to ten nearest cafes. First we will have to reproject our data to UTM Zone 10N which is a projection system that contains Oregon (https://epsg.io/32610)"
   ]
  },
  {
   "cell_type": "code",
   "id": "e97463bf",
   "metadata": {},
   "source": [
    "# Reproject to UTM Zone 10N\n",
    "warnings.filterwarnings(\"ignore\", category=DeprecationWarning)\n",
    "gdf = gdf.to_crs('EPSG:32610')\n",
    "cafes = cafes.to_crs('EPSG:32610')"
   ],
   "outputs": [],
   "execution_count": null
  },
  {
   "cell_type": "markdown",
   "id": "6171d39f",
   "metadata": {},
   "source": [
    "Find the coordinates of Condon Hall by searching for **Condon Hall** in the original GeoDataFrame."
   ]
  },
  {
   "cell_type": "code",
   "id": "24dc7373",
   "metadata": {},
   "source": [
    "# Get coordinates of Condon Hall\n",
    "warnings.filterwarnings(\"ignore\", category=DeprecationWarning)\n",
    "condon_hall = gdf[gdf['name'] == 'Condon Hall'].reset_index()"
   ],
   "outputs": [],
   "execution_count": null
  },
  {
   "cell_type": "markdown",
   "id": "5a39177d",
   "metadata": {},
   "source": [
    "Compute building centroids so we can compute point-to-point distances."
   ]
  },
  {
   "cell_type": "code",
   "id": "f0e5d3be",
   "metadata": {},
   "source": [
    "# Get cafe and Condon Hall centroids\n",
    "warnings.filterwarnings(\"ignore\", category=DeprecationWarning)\n",
    "cafes['centroid'] = cafes['geometry'].apply(\n",
    "  lambda x: x.centroid if type(x) == Polygon else (\n",
    "  x.centroid if type(x) == MultiPolygon else x))\n",
    "\n",
    "condon_hall['centroid'] = condon_hall['geometry'].apply(\n",
    "  lambda x: x.centroid if type(x) == Polygon else (\n",
    "  x.centroid if type(x) == MultiPolygon else x))"
   ],
   "outputs": [],
   "execution_count": null
  },
  {
   "cell_type": "markdown",
   "id": "b9dbddd4",
   "metadata": {},
   "source": [
    "Now we can compute the Euclidean distances between Condon Hall and the cafes"
   ]
  },
  {
   "cell_type": "code",
   "id": "6111ec63",
   "metadata": {},
   "source": [
    "# Compute distances\n",
    "warnings.filterwarnings(\"ignore\", category=DeprecationWarning)\n",
    "condon_hall_x = condon_hall['centroid'].x.values[0]\n",
    "condon_hall_y = condon_hall['centroid'].y.values[0]\n",
    "distances = np.sqrt(((condon_hall_x - cafes['centroid'].x.values)**2)\n",
    "                     + ((condon_hall_y - cafes['centroid'].y.values)**2))\n",
    "\n",
    "# Add to GeoDataFrame\n",
    "cafes['euclidean_distance'] = distances"
   ],
   "outputs": [],
   "execution_count": null
  },
  {
   "cell_type": "markdown",
   "id": "1f257922",
   "metadata": {},
   "source": [
    "...and print a list of the ten closest cafes to Condon Hall"
   ]
  },
  {
   "cell_type": "code",
   "id": "f7686027",
   "metadata": {},
   "source": [
    "\n",
    "warnings.filterwarnings(\"ignore\", category=DeprecationWarning)\n",
    "print(cafes.nsmallest(10, ['euclidean_distance'])[['name', 'euclidean_distance']])"
   ],
   "outputs": [],
   "execution_count": null
  },
  {
   "cell_type": "markdown",
   "id": "c698095a",
   "metadata": {},
   "source": [
    "Now for a bit of magic, let's visualize our data using `folium`"
   ]
  },
  {
   "cell_type": "code",
   "id": "3d2ded03",
   "metadata": {
    "scrolled": true
   },
   "source": [
    "# Make a new DataFrame containing only the three most relevant columns\n",
    "warnings.filterwarnings(\"ignore\", category=DeprecationWarning)\n",
    "nearest_cafes = cafes.nsmallest(10, ['euclidean_distance'])[['name', 'euclidean_distance', 'centroid']]\n",
    "\n",
    "# Set column geometry\n",
    "nearest_cafes = nearest_cafes.set_geometry('centroid')\n",
    "\n",
    "# Convert back to WGS84\n",
    "nearest_cafes = nearest_cafes.to_crs('EPSG:4326')\n",
    "\n",
    "# Import package\n",
    "import folium\n",
    "\n",
    "# Define center of map (i.e. Condon Hall) and initial zoom level\n",
    "lat_lon = [44.0451, -123.0781]\n",
    "m = folium.Map(location=lat_lon, zoom_start=15)\n",
    "\n",
    "for i in range(0, nearest_cafes.shape[0]):\n",
    "    my_string = 'name: {}, distance: {}'.format(nearest_cafes.iloc[i]['name'], nearest_cafes.iloc[i]['euclidean_distance'])\n",
    "    folium.Marker([nearest_cafes.iloc[i]['centroid'].y, nearest_cafes.iloc[i]['centroid'].x],\n",
    "                 popup=my_string).add_to(m)\n",
    "\n",
    "# Display map\n",
    "m"
   ],
   "outputs": [],
   "execution_count": null
  },
  {
   "cell_type": "markdown",
   "id": "120e8ebc",
   "metadata": {},
   "source": [
    "Click on the markers above and a pop-up should appear showing the name of the cafe and Euclidean distance (in meters) from Condon Hall."
   ]
  },
  {
   "cell_type": "markdown",
   "id": "cfda37ef",
   "metadata": {},
   "source": [
    "## Question 1 (20 points):\n",
    "Write a script that:\n",
    "\n",
    "* Computes the Euclidean distance to another **amenity** of your choosing (HINT: use `gdf['amenity'].unique()` to list the different amenities). Feel free to download OSM buildings from another place and choose a different home' location.\n",
    "\n",
    "\n",
    "* Makes an interactive map showing where your ten nearest amenities are using `folium`. "
   ]
  },
  {
   "cell_type": "markdown",
   "id": "4bc9d253",
   "metadata": {},
   "source": [
    "### Computing network distances\n",
    "\n",
    "Euclidean distances often underestimate the distance between two objects, especially when there are obstacles between the two. So we will now compute some more realistic distances to cafes around Condon Hall. First we will need to import the [<code>networkx</code>](https://networkx.org/) package which will allow us conduct a network analysis. "
   ]
  },
  {
   "cell_type": "code",
   "id": "904fa123",
   "metadata": {},
   "source": [
    "# Import module\n",
    "import networkx as nx"
   ],
   "outputs": [],
   "execution_count": null
  },
  {
   "cell_type": "markdown",
   "id": "46e4e6d1",
   "metadata": {},
   "source": [
    "Now we will define the coordinates of Condon Hall and download a walkable street network from OSM. Since the furthest of our ten cafes was 1.5 km away, we will limit our download to 1.6 km."
   ]
  },
  {
   "cell_type": "code",
   "id": "b7dcae0f",
   "metadata": {},
   "source": [
    "# Define coordinates of Condon Hall\n",
    "warnings.filterwarnings(\"ignore\", category=DeprecationWarning)\n",
    "lat_lon = (44.0451, -123.0781)\n",
    "\n",
    "# Import walkable street network data around Condon Hall\n",
    "g = ox.graph_from_point(lat_lon, dist=1600, network_type='walk')\n",
    "\n",
    "# Plot map\n",
    "fig, ax = ox.plot_graph(g, node_size=10)"
   ],
   "outputs": [],
   "execution_count": null
  },
  {
   "cell_type": "code",
   "id": "3bc9e245",
   "metadata": {},
   "source": [
    "# Convert to graph\n",
    "warnings.filterwarnings(\"ignore\", category=DeprecationWarning)\n",
    "graph_proj = ox.project_graph(g)\n",
    "\n",
    "# Get edges and nodes separately\n",
    "nodes_proj, edges_proj = ox.graph_to_gdfs(graph_proj, nodes=True, edges=True)"
   ],
   "outputs": [],
   "execution_count": null
  },
  {
   "cell_type": "code",
   "id": "5e7498e9",
   "metadata": {},
   "source": [
    "# Check projection is UTM Zone 10N\n",
    "warnings.filterwarnings(\"ignore\", category=DeprecationWarning)\n",
    "print(\"Coordinate system:\", edges_proj.crs)\n",
    "\n",
    "# Convert the cafe dataset back to UTM Zone 10N\n",
    "nearest_cafes = nearest_cafes.to_crs('EPSG:32610')"
   ],
   "outputs": [],
   "execution_count": null
  },
  {
   "cell_type": "code",
   "id": "05b76ae4",
   "metadata": {},
   "source": [
    "# Get x and y coordinates of Condon Hall\n",
    "orig_xy = (condon_hall['centroid'].y.values[0], condon_hall['centroid'].x.values[0])\n",
    "\n",
    "# Get x and y coordinates of one of the cafes (the furthest of the ten)\n",
    "target_xy = (nearest_cafes['centroid'].y.values[-1], nearest_cafes['centroid'].x.values[-1])"
   ],
   "outputs": [],
   "execution_count": null
  },
  {
   "cell_type": "code",
   "id": "02ee20e9",
   "metadata": {},
   "source": [
    "# Find the node in the graph that is closest to the origin point (here, we want to get the node id)\n",
    "warnings.filterwarnings(\"ignore\", category=DeprecationWarning)\n",
    "orig_node = ox.distance.nearest_nodes(G=graph_proj, X=orig_xy[1], Y=orig_xy[0], return_dist=False)\n",
    "\n",
    "# Find the node in the graph that is closest to the target point (here, we want to get the node id)\n",
    "target_node = ox.distance.nearest_nodes(graph_proj, X=target_xy[1], Y=target_xy[0], return_dist=False)"
   ],
   "outputs": [],
   "execution_count": null
  },
  {
   "cell_type": "code",
   "id": "cdf711cf",
   "metadata": {},
   "source": [
    "# Calculate the shortest path\n",
    "route = nx.shortest_path(G=graph_proj, source=orig_node, target=target_node, weight='length')"
   ],
   "outputs": [],
   "execution_count": null
  },
  {
   "cell_type": "code",
   "id": "a932af36",
   "metadata": {},
   "source": [
    "# Plot the shortest path using folium\n",
    "warnings.filterwarnings(\"ignore\", category=DeprecationWarning)\n",
    "m = ox.plot_route_folium(g, route, weight=5)\n"
   ],
   "outputs": [],
   "execution_count": null
  },
  {
   "cell_type": "markdown",
   "id": "d1f27f1e",
   "metadata": {},
   "source": [
    "## Question 2 (20 points): \n",
    "\n",
    "Adapt the code above to compute the network distance between two points (either in Eugene or in a city of your choice) and show your results using an interactive map. Write a few sentences about what your map shows."
   ]
  },
  {
   "cell_type": "markdown",
   "id": "67ffd7d5",
   "metadata": {},
   "source": [
    "### Compute network distances between Condon Hall and cafes"
   ]
  },
  {
   "cell_type": "code",
   "id": "f1f43864",
   "metadata": {},
   "source": [
    "# Get the nodes along the shortest path\n",
    "warnings.filterwarnings(\"ignore\", category=DeprecationWarning)\n",
    "route_nodes = nodes_proj.loc[route]\n",
    "\n",
    "# Create a geometry for the shortest path\n",
    "route_line = LineString(list(route_nodes['geometry'].values))\n",
    "\n",
    "# Create a GeoDataFrame\n",
    "route_geom = gpd.GeoDataFrame([[route_line]], geometry='geometry', crs=edges_proj.crs, columns=['geometry'])\n",
    "\n",
    "# Print length of route\n",
    "print('Walking distance to %s = %.1f km' % (nearest_cafes['name'].iloc[-1], route_geom['geometry'].length / 1000))"
   ],
   "outputs": [],
   "execution_count": null
  },
  {
   "cell_type": "markdown",
   "id": "c7899620",
   "metadata": {},
   "source": [
    "OK that looks very nice, but what about if we wanted distances to all ten cafes. We need to put this code into a for loop."
   ]
  },
  {
   "cell_type": "code",
   "id": "da5cac54",
   "metadata": {},
   "source": [
    "# Get x and y coordinates of all ten of the nearest cafes\n",
    "warnings.filterwarnings(\"ignore\", category=DeprecationWarning)\n",
    "target_xy = (nearest_cafes['centroid'].y.values, nearest_cafes['centroid'].x.values)"
   ],
   "outputs": [],
   "execution_count": null
  },
  {
   "cell_type": "code",
   "id": "4f38716a",
   "metadata": {},
   "source": [
    "warnings.filterwarnings(\"ignore\", category=DeprecationWarning)\n",
    "warnings.filterwarnings(\"ignore\", category=FutureWarning)\n",
    "routes = []\n",
    "distances = []\n",
    "for i in range(len(target_xy[0])):\n",
    "    \n",
    "    # Find the node in the graph that is closest to the target point (here, we want to get the node id)\n",
    "    target_node = ox.distance.nearest_nodes(graph_proj, X=target_xy[1][i], Y=target_xy[0][i], return_dist=False)\n",
    "    \n",
    "    # Calculate the shortest path\n",
    "    route = nx.shortest_path(G=graph_proj, source=orig_node, target=target_node, weight='length')\n",
    "    \n",
    "    # Append route to list\n",
    "    routes.append(route)\n",
    "    \n",
    "    # Get the nodes along the shortest path\n",
    "    route_nodes = nodes_proj.loc[route]\n",
    "    \n",
    "    # Create a geometry for the shortest path\n",
    "    route_line = LineString(list(route_nodes['geometry'].values))\n",
    "\n",
    "    # Create a GeoDataFrame\n",
    "    route_geom = gpd.GeoDataFrame([[route_line]], geometry='geometry', crs=edges_proj.crs, columns=['geometry'])\n",
    "\n",
    "    # Print length of route\n",
    "    print('Walking distance to %s = %.1f km' % (nearest_cafes['name'].iloc[i], route_geom['geometry'].length / 1000))\n",
    "    \n",
    "    # Append distances to list\n",
    "    distances.append(route_geom['geometry'].length[0])"
   ],
   "outputs": [],
   "execution_count": null
  },
  {
   "cell_type": "markdown",
   "id": "2c679456",
   "metadata": {},
   "source": [
    "Let's add the network distances to the original DataFrame and display"
   ]
  },
  {
   "cell_type": "code",
   "id": "81a1e35c",
   "metadata": {},
   "source": [
    "warnings.filterwarnings(\"ignore\", category=DeprecationWarning)\n",
    "warnings.filterwarnings(\"ignore\", category=FutureWarning)\n",
    "nearest_cafes['network_distance'] = distances\n",
    "nearest_cafes"
   ],
   "outputs": [],
   "execution_count": null
  },
  {
   "cell_type": "markdown",
   "id": "b25b101b",
   "metadata": {},
   "source": [
    "## Question 3 (10 points): \n",
    "\n",
    "\n",
    "* a) Calculate the average difference between the Euclidean and network distances for you amenities \n",
    "\n",
    "\n",
    "* b) Describe some situations where it would not be advisable to use Euclidean distances?"
   ]
  },
  {
   "cell_type": "code",
   "id": "1672685b",
   "metadata": {},
   "source": [],
   "outputs": [],
   "execution_count": null
  }
 ],
 "metadata": {
  "kernelspec": {
   "display_name": "Python 3 (ipykernel)",
   "language": "python",
   "name": "python3"
  },
  "language_info": {
   "codemirror_mode": {
    "name": "ipython",
    "version": 3
   },
   "file_extension": ".py",
   "mimetype": "text/x-python",
   "name": "python",
   "nbconvert_exporter": "python",
   "pygments_lexer": "ipython3",
   "version": "3.9.7"
  }
 },
 "nbformat": 4,
 "nbformat_minor": 5
}
